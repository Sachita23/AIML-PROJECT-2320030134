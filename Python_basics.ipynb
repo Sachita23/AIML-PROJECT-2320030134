{
  "cells": [
    {
      "cell_type": "markdown",
      "metadata": {
        "id": "view-in-github",
        "colab_type": "text"
      },
      "source": [
        "<a href=\"https://colab.research.google.com/github/Sachita23/AIML-PROJECT-2320030134/blob/main/Python_basics.ipynb\" target=\"_parent\"><img src=\"https://colab.research.google.com/assets/colab-badge.svg\" alt=\"Open In Colab\"/></a>"
      ]
    },
    {
      "cell_type": "code",
      "execution_count": null,
      "metadata": {
        "colab": {
          "base_uri": "https://localhost:8080/"
        },
        "id": "4s99w5ZWlR5I",
        "outputId": "ec6d58e5-a403-4bf1-d09c-56a7c5f88f18"
      },
      "outputs": [
        {
          "name": "stdout",
          "output_type": "stream",
          "text": [
            "hi\n"
          ]
        }
      ],
      "source": [
        "print(\"hi\")"
      ]
    },
    {
      "cell_type": "code",
      "execution_count": null,
      "metadata": {
        "colab": {
          "base_uri": "https://localhost:8080/"
        },
        "id": "B6_r5FKzmYtF",
        "outputId": "009f999b-8f4c-4420-9948-381c60c59668"
      },
      "outputs": [
        {
          "name": "stdout",
          "output_type": "stream",
          "text": [
            "Sachita Limaye\n",
            "2320030134\n",
            "9121381313\n"
          ]
        }
      ],
      "source": [
        "print(\"Sachita Limaye\")\n",
        "print(\"2320030134\")\n",
        "print(\"9121381313\")"
      ]
    },
    {
      "cell_type": "code",
      "execution_count": null,
      "metadata": {
        "colab": {
          "base_uri": "https://localhost:8080/"
        },
        "id": "CMZKjJHXmp3U",
        "outputId": "521a178a-3532-422d-9f44-a6470e8b72e4"
      },
      "outputs": [
        {
          "name": "stdout",
          "output_type": "stream",
          "text": [
            "Sachita Limaye 2320030134 9121381313\n"
          ]
        }
      ],
      "source": [
        "print(\"Sachita Limaye\" \" 2320030134\" \" \" \"9121381313\")"
      ]
    },
    {
      "cell_type": "code",
      "execution_count": null,
      "metadata": {
        "colab": {
          "base_uri": "https://localhost:8080/"
        },
        "id": "14-mtRDpnXhy",
        "outputId": "0c9ab672-2d22-4713-86ae-18c550d143b7"
      },
      "outputs": [
        {
          "name": "stdout",
          "output_type": "stream",
          "text": [
            "HI#Sreeram\n"
          ]
        }
      ],
      "source": [
        "print(\"HI\",end=\"#\")\n",
        "print(\"Sreeram\")"
      ]
    },
    {
      "cell_type": "code",
      "execution_count": null,
      "metadata": {
        "colab": {
          "base_uri": "https://localhost:8080/"
        },
        "id": "WdcwHvPen0Jo",
        "outputId": "57b149f4-db32-4513-f707-ff63064cb1ef"
      },
      "outputs": [
        {
          "name": "stdout",
          "output_type": "stream",
          "text": [
            "Sachita Limaye-2320030134-9121381313-18-General\n"
          ]
        }
      ],
      "source": [
        "print(\"Sachita Limaye\",end=\"-\")\n",
        "print(\"2320030134\",end='-')\n",
        "print(\"9121381313\",end='-')\n",
        "print(\"18\",end='-');\n",
        "print(\"General\")"
      ]
    },
    {
      "cell_type": "code",
      "execution_count": null,
      "metadata": {
        "colab": {
          "base_uri": "https://localhost:8080/"
        },
        "id": "imWtPd3NruKS",
        "outputId": "7021bc2f-7f86-4982-ad37-a7a525c9891b"
      },
      "outputs": [
        {
          "name": "stdout",
          "output_type": "stream",
          "text": [
            "Sachita\n",
            "Sachita\n",
            "Sachita\n",
            "Sachita\n",
            "Sachita\n",
            "Sachita\n",
            "Sachita\n",
            "Sachita\n",
            "Sachita\n",
            "Sachita\n",
            "\n"
          ]
        }
      ],
      "source": [
        "print(\"Sachita\\n\"*10)"
      ]
    },
    {
      "cell_type": "code",
      "execution_count": null,
      "metadata": {
        "colab": {
          "base_uri": "https://localhost:8080/"
        },
        "id": "oj1GqziOr8x7",
        "outputId": "a6cd5768-8609-416e-e790-cc2a9fe7de4f"
      },
      "outputs": [
        {
          "name": "stdout",
          "output_type": "stream",
          "text": [
            "Sachita:2320030134\n",
            "Sachita:2320030134\n",
            "Sachita:2320030134\n",
            "Sachita:2320030134\n",
            "Sachita:2320030134\n",
            "Sachita:2320030134\n",
            "Sachita:2320030134\n",
            "Sachita:2320030134\n",
            "Sachita:2320030134\n",
            "Sachita:2320030134\n",
            "\n"
          ]
        }
      ],
      "source": [
        "print(\"Sachita:2320030134\\n\"*10)"
      ]
    },
    {
      "cell_type": "code",
      "execution_count": null,
      "metadata": {
        "colab": {
          "base_uri": "https://localhost:8080/"
        },
        "id": "0WJqkO7msm0S",
        "outputId": "45e63bf0-be54-4914-d2cf-e96614deb591"
      },
      "outputs": [
        {
          "name": "stdout",
          "output_type": "stream",
          "text": [
            "Sachita:2320030134\n",
            "Sachita:2320030134\n",
            "Sachita:2320030134\n",
            "Sachita:2320030134\n",
            "Sachita:2320030134\n",
            "Sachita:2320030134\n",
            "Sachita:2320030134\n",
            "Sachita:2320030134\n",
            "Sachita:2320030134\n",
            "Sachita:2320030134\n"
          ]
        }
      ],
      "source": [
        "a=\"Sachita:2320030134\"\n",
        "for i in range(10):\n",
        "  print(\"Sachita:2320030134\")"
      ]
    },
    {
      "cell_type": "code",
      "execution_count": null,
      "metadata": {
        "colab": {
          "base_uri": "https://localhost:8080/",
          "height": 35
        },
        "id": "xVa3BWYqtKiv",
        "outputId": "b9331e29-c906-434e-c47d-07a56d4e6a74"
      },
      "outputs": [
        {
          "data": {
            "application/vnd.google.colaboratory.intrinsic+json": {
              "type": "string"
            },
            "text/plain": [
              "'i'"
            ]
          },
          "execution_count": 29,
          "metadata": {},
          "output_type": "execute_result"
        }
      ],
      "source": [
        "\"sachita\"[4]\n"
      ]
    },
    {
      "cell_type": "code",
      "execution_count": null,
      "metadata": {
        "colab": {
          "base_uri": "https://localhost:8080/"
        },
        "id": "ABzQAenOt2it",
        "outputId": "f56bb57f-cade-4156-eb5a-735e1a0011d0"
      },
      "outputs": [
        {
          "data": {
            "text/plain": [
              "7"
            ]
          },
          "execution_count": 33,
          "metadata": {},
          "output_type": "execute_result"
        }
      ],
      "source": [
        "len(\"sachita\")"
      ]
    },
    {
      "cell_type": "code",
      "execution_count": null,
      "metadata": {
        "colab": {
          "base_uri": "https://localhost:8080/"
        },
        "id": "nmlD2tlZuguV",
        "outputId": "8b737478-8d34-4c1f-e942-60d895e3fd61"
      },
      "outputs": [
        {
          "name": "stdout",
          "output_type": "stream",
          "text": [
            "K\n",
            "o\n",
            "n\n",
            "e\n",
            "r\n",
            "u\n",
            " \n",
            "L\n",
            "a\n",
            "k\n",
            "s\n",
            "h\n",
            "m\n",
            "a\n",
            "i\n",
            "a\n",
            "h\n",
            " \n",
            "U\n",
            "n\n",
            "i\n",
            "v\n",
            "e\n",
            "r\n",
            "s\n",
            "i\n",
            "t\n",
            "y\n"
          ]
        }
      ],
      "source": [
        "a=\"Koneru Lakshmaiah University\"\n",
        "for i in a:\n",
        "  print(i)"
      ]
    },
    {
      "cell_type": "code",
      "execution_count": null,
      "metadata": {
        "colab": {
          "base_uri": "https://localhost:8080/",
          "height": 35
        },
        "id": "CydPZ7B1vbfT",
        "outputId": "e41a8910-3284-445c-dfd8-f27160352d4f"
      },
      "outputs": [
        {
          "data": {
            "application/vnd.google.colaboratory.intrinsic+json": {
              "type": "string"
            },
            "text/plain": [
              "'Sa'"
            ]
          },
          "execution_count": 45,
          "metadata": {},
          "output_type": "execute_result"
        }
      ],
      "source": [
        "\"Sachita\"[0]+\"Sachita\"[6]"
      ]
    },
    {
      "cell_type": "code",
      "execution_count": null,
      "metadata": {
        "colab": {
          "base_uri": "https://localhost:8080/",
          "height": 35
        },
        "id": "lJP-6kwdyPNp",
        "outputId": "9685d595-b5e0-4b3d-909d-51cb1b99efe1"
      },
      "outputs": [
        {
          "data": {
            "application/vnd.google.colaboratory.intrinsic+json": {
              "type": "string"
            },
            "text/plain": [
              "'ra'"
            ]
          },
          "execution_count": 48,
          "metadata": {},
          "output_type": "execute_result"
        }
      ],
      "source": [
        "a=\"Sreeram\"\n",
        "a[1]+a[-2]\n"
      ]
    },
    {
      "cell_type": "code",
      "execution_count": null,
      "metadata": {
        "colab": {
          "base_uri": "https://localhost:8080/",
          "height": 35
        },
        "id": "bYI8lT5myRmj",
        "outputId": "bdc34881-c564-4cd7-e4bf-dc3907da1723"
      },
      "outputs": [
        {
          "data": {
            "application/vnd.google.colaboratory.intrinsic+json": {
              "type": "string"
            },
            "text/plain": [
              "'Ky'"
            ]
          },
          "execution_count": 6,
          "metadata": {},
          "output_type": "execute_result"
        }
      ],
      "source": [
        "k=\"KL University\"\n",
        "k[0]+k[-1]\n"
      ]
    },
    {
      "cell_type": "code",
      "execution_count": null,
      "metadata": {
        "colab": {
          "base_uri": "https://localhost:8080/",
          "height": 35
        },
        "id": "Pu_8_tR59hmZ",
        "outputId": "052d709b-9c89-4595-b81a-2ae97369429f"
      },
      "outputs": [
        {
          "data": {
            "application/vnd.google.colaboratory.intrinsic+json": {
              "type": "string"
            },
            "text/plain": [
              "'KL UniversityKL UniversityKL UniversityKL University'"
            ]
          },
          "execution_count": 4,
          "metadata": {},
          "output_type": "execute_result"
        }
      ],
      "source": [
        "k*4"
      ]
    },
    {
      "cell_type": "code",
      "execution_count": null,
      "metadata": {
        "colab": {
          "base_uri": "https://localhost:8080/"
        },
        "id": "lg0M8Ar9-tkp",
        "outputId": "0e2066e9-1ec5-471c-b771-91d6c089ebbd"
      },
      "outputs": [
        {
          "name": "stdout",
          "output_type": "stream",
          "text": [
            "Hello World\n",
            "Hello World\n",
            "Hello World\n",
            "Hello World\n",
            "\n"
          ]
        }
      ],
      "source": [
        "print(\"Hello World\\n\"*4)"
      ]
    },
    {
      "cell_type": "code",
      "execution_count": null,
      "metadata": {
        "colab": {
          "base_uri": "https://localhost:8080/"
        },
        "id": "aZcliLfi_bdo",
        "outputId": "e8d8b840-13c7-473b-ba61-891ebe3b4242"
      },
      "outputs": [
        {
          "name": "stdout",
          "output_type": "stream",
          "text": [
            "K\n",
            "L\n",
            "U\n",
            "n\n",
            "i\n",
            "v\n",
            "e\n",
            "r\n",
            "s\n",
            "i\n",
            "t\n",
            "y\n"
          ]
        }
      ],
      "source": [
        "for i in \"KLUniversity\":\n",
        "  print(i)"
      ]
    },
    {
      "cell_type": "code",
      "execution_count": null,
      "metadata": {
        "colab": {
          "base_uri": "https://localhost:8080/"
        },
        "id": "7TobENYs_f5D",
        "outputId": "2d55c8c4-6e91-4851-cf0d-cc33e9625625"
      },
      "outputs": [
        {
          "name": "stdout",
          "output_type": "stream",
          "text": [
            "SachitaSachitaSachitaSachitaSachita\n"
          ]
        }
      ],
      "source": [
        "x=5\n",
        "y=\"Sachita\"\n",
        "print(x*y)"
      ]
    },
    {
      "cell_type": "code",
      "execution_count": null,
      "metadata": {
        "colab": {
          "base_uri": "https://localhost:8080/"
        },
        "id": "dbgwKMdaCLu2",
        "outputId": "ff00b901-f34d-4b99-8c99-7cfcab3e388b"
      },
      "outputs": [
        {
          "name": "stdout",
          "output_type": "stream",
          "text": [
            "SachitaSachitaSachitaSachitaSachita\n"
          ]
        }
      ],
      "source": [
        "x=5\n",
        "y=\"Sachita\"\n",
        "print(y*x)"
      ]
    },
    {
      "cell_type": "code",
      "execution_count": null,
      "metadata": {
        "colab": {
          "base_uri": "https://localhost:8080/"
        },
        "id": "t4-vKZnYCQrF",
        "outputId": "5fd9e314-d4cf-47bb-fdab-95381de70d7f"
      },
      "outputs": [
        {
          "name": "stdout",
          "output_type": "stream",
          "text": [
            "[10, 40, 20, 70, 90]\n",
            "<class 'list'>\n"
          ]
        }
      ],
      "source": [
        "s=[10,40,20,70,90]\n",
        "print(s)\n",
        "print(type(s))"
      ]
    },
    {
      "cell_type": "code",
      "execution_count": null,
      "metadata": {
        "colab": {
          "base_uri": "https://localhost:8080/"
        },
        "id": "WFfpSeyTCpWv",
        "outputId": "ad5d7427-224e-4ed1-c059-5ae7afe6e71c"
      },
      "outputs": [
        {
          "name": "stdout",
          "output_type": "stream",
          "text": [
            "<class 'int'>\n",
            "<class 'tuple'>\n"
          ]
        }
      ],
      "source": [
        "a=60\n",
        "b=70,\n",
        "print(type(a))\n",
        "print(type(b))"
      ]
    },
    {
      "cell_type": "code",
      "execution_count": null,
      "metadata": {
        "colab": {
          "base_uri": "https://localhost:8080/"
        },
        "id": "NEJiRw11Dnz6",
        "outputId": "03f85715-5b04-457f-e77c-67da1c747c09"
      },
      "outputs": [
        {
          "name": "stdout",
          "output_type": "stream",
          "text": [
            "<class 'tuple'>\n"
          ]
        }
      ],
      "source": [
        "c=(10,20,30,40)\n",
        "print(type(c))"
      ]
    },
    {
      "cell_type": "code",
      "execution_count": null,
      "metadata": {
        "colab": {
          "base_uri": "https://localhost:8080/"
        },
        "id": "tttvSXvQDqsU",
        "outputId": "89d3c286-f009-4fda-ec61-afd07d6dcebf"
      },
      "outputs": [
        {
          "name": "stdout",
          "output_type": "stream",
          "text": [
            "('apple', 'banana', 'cherry', 'apple')\n"
          ]
        }
      ],
      "source": [
        "thistuple=(\"apple\",\"banana\",\"cherry\",\"apple\")\n",
        "print(thistuple)"
      ]
    },
    {
      "cell_type": "code",
      "execution_count": null,
      "metadata": {
        "colab": {
          "base_uri": "https://localhost:8080/",
          "height": 35
        },
        "id": "QfdcoSDgEEKR",
        "outputId": "0180ba78-f773-4e36-a6d4-f00cd14cf1a2"
      },
      "outputs": [
        {
          "data": {
            "application/vnd.google.colaboratory.intrinsic+json": {
              "type": "string"
            },
            "text/plain": [
              "'banana'"
            ]
          },
          "execution_count": 25,
          "metadata": {},
          "output_type": "execute_result"
        }
      ],
      "source": [
        "thistuple[1]"
      ]
    },
    {
      "cell_type": "code",
      "execution_count": null,
      "metadata": {
        "colab": {
          "base_uri": "https://localhost:8080/"
        },
        "id": "ZFGYh2QZEhlD",
        "outputId": "a62aae50-2967-4d34-bf18-577bc30904a2"
      },
      "outputs": [
        {
          "name": "stdout",
          "output_type": "stream",
          "text": [
            "b a\n"
          ]
        }
      ],
      "source": [
        "print(thistuple[1][0],thistuple[1][1])"
      ]
    },
    {
      "cell_type": "code",
      "execution_count": null,
      "metadata": {
        "colab": {
          "base_uri": "https://localhost:8080/"
        },
        "id": "HxnpO2OFEpr8",
        "outputId": "bd634232-22c6-4f1c-f90c-d1aaf2dffd62"
      },
      "outputs": [
        {
          "data": {
            "text/plain": [
              "10"
            ]
          },
          "execution_count": 40,
          "metadata": {},
          "output_type": "execute_result"
        }
      ],
      "source": [
        "m=[1,2,3,4,5]\n",
        "len(s+m)"
      ]
    },
    {
      "cell_type": "code",
      "execution_count": null,
      "metadata": {
        "colab": {
          "base_uri": "https://localhost:8080/"
        },
        "id": "---iDt3SFkFi",
        "outputId": "dee78d6f-2a80-4b99-c527-0f2e5a44310b"
      },
      "outputs": [
        {
          "data": {
            "text/plain": [
              "[10, 40, 20, 70, 90, 1, 2, 3, 4, 5]"
            ]
          },
          "execution_count": 41,
          "metadata": {},
          "output_type": "execute_result"
        }
      ],
      "source": [
        "s+m"
      ]
    },
    {
      "cell_type": "code",
      "execution_count": null,
      "metadata": {
        "colab": {
          "base_uri": "https://localhost:8080/"
        },
        "id": "xosaxa53GQOb",
        "outputId": "da77ffe9-63fb-46b2-c432-3f29d52a8b3a"
      },
      "outputs": [
        {
          "name": "stdout",
          "output_type": "stream",
          "text": [
            "{'brand': 'Ford', 'model': 'Mustang', 'year': 1964}\n"
          ]
        }
      ],
      "source": [
        "thisdict={ \"brand\":\"Ford\",\"model\":\"Mustang\",\"year\":1964}\n",
        "print(thisdict)"
      ]
    },
    {
      "cell_type": "code",
      "execution_count": null,
      "metadata": {
        "colab": {
          "base_uri": "https://localhost:8080/"
        },
        "id": "gpEH_aZxGoa5",
        "outputId": "534a1b86-c930-43f2-b996-ad165007a1fe"
      },
      "outputs": [
        {
          "data": {
            "text/plain": [
              "1964"
            ]
          },
          "execution_count": 48,
          "metadata": {},
          "output_type": "execute_result"
        }
      ],
      "source": [
        "thisdict[\"year\"]"
      ]
    },
    {
      "cell_type": "code",
      "execution_count": null,
      "metadata": {
        "colab": {
          "base_uri": "https://localhost:8080/",
          "height": 35
        },
        "id": "gXZfpGpIHYcE",
        "outputId": "b0552d22-7720-42a3-e365-5d91c95aec67"
      },
      "outputs": [
        {
          "data": {
            "application/vnd.google.colaboratory.intrinsic+json": {
              "type": "string"
            },
            "text/plain": [
              "'Ford'"
            ]
          },
          "execution_count": 49,
          "metadata": {},
          "output_type": "execute_result"
        }
      ],
      "source": [
        "thisdict[\"brand\"]"
      ]
    },
    {
      "cell_type": "code",
      "execution_count": null,
      "metadata": {
        "colab": {
          "base_uri": "https://localhost:8080/"
        },
        "id": "iXiFCgQHH-hu",
        "outputId": "61d444e7-84b4-4a82-990a-8bf951037fe1"
      },
      "outputs": [
        {
          "data": {
            "text/plain": [
              "dict_keys(['brand', 'model', 'year'])"
            ]
          },
          "execution_count": 55,
          "metadata": {},
          "output_type": "execute_result"
        }
      ],
      "source": [
        "thisdict.keys()"
      ]
    },
    {
      "cell_type": "code",
      "execution_count": null,
      "metadata": {
        "colab": {
          "base_uri": "https://localhost:8080/"
        },
        "id": "j2BjCcUhIik2",
        "outputId": "e92098ea-9bac-4074-d618-00108a99fe6a"
      },
      "outputs": [
        {
          "data": {
            "text/plain": [
              "dict_values(['Ford', 'Mustang', 1964])"
            ]
          },
          "execution_count": 56,
          "metadata": {},
          "output_type": "execute_result"
        }
      ],
      "source": [
        "thisdict.values()"
      ]
    },
    {
      "cell_type": "code",
      "execution_count": null,
      "metadata": {
        "colab": {
          "base_uri": "https://localhost:8080/"
        },
        "id": "Eor-6ss5InFM",
        "outputId": "a90a269e-a9a4-44ac-e450-50ab7dac61df"
      },
      "outputs": [
        {
          "name": "stdout",
          "output_type": "stream",
          "text": [
            "0\n",
            "1\n",
            "2\n",
            "3\n",
            "4\n",
            "5\n",
            "6\n",
            "7\n",
            "8\n",
            "9\n"
          ]
        }
      ],
      "source": [
        "for i in range(10):\n",
        "  print( i)"
      ]
    },
    {
      "cell_type": "code",
      "execution_count": null,
      "metadata": {
        "colab": {
          "base_uri": "https://localhost:8080/"
        },
        "id": "T_QZaH-jLOta",
        "outputId": "94afa10b-3cf3-4032-df96-8ea89d8b4916"
      },
      "outputs": [
        {
          "name": "stdout",
          "output_type": "stream",
          "text": [
            "2\n",
            "3\n",
            "4\n",
            "5\n",
            "6\n",
            "7\n",
            "8\n",
            "9\n"
          ]
        }
      ],
      "source": [
        "for i in range(2,10):\n",
        "  print(i)"
      ]
    },
    {
      "cell_type": "code",
      "execution_count": null,
      "metadata": {
        "colab": {
          "background_save": true
        },
        "id": "ZDy9My_C7hWn",
        "outputId": "968c57a9-8502-40a0-d3f7-151b301bdfaf"
      },
      "outputs": [
        {
          "name": "stdout",
          "output_type": "stream",
          "text": [
            "Graph using bfs:\n",
            "5 3 7 2 4 8 "
          ]
        }
      ],
      "source": [
        "graph={\n",
        "    '5':['3','7'],\n",
        "    '3':['2','4'],\n",
        "    '7':['8'],\n",
        "    '2':[],\n",
        "    '4':['8'],\n",
        "    '8':[]\n",
        "}\n",
        "\n",
        "visited=[]\n",
        "queue=[]\n",
        "\n",
        "def bfs(visited,graph,node):\n",
        "  visited.append(node);\n",
        "  queue.append(node);\n",
        "  while(queue):\n",
        "    m=queue.pop(0);\n",
        "    printf(m,end=\" \")\n",
        "    for neighbour in graph[m]:\n",
        "      if neighbour not in visited:\n",
        "        visited.append(neighbour)\n",
        "        queue.append(neighbour)\n",
        "\n",
        "print(\"Graph using bfs:\")\n",
        "bfs(visited,graph,'5')\n"
      ]
    },
    {
      "cell_type": "code",
      "source": [],
      "metadata": {
        "id": "hJbybwDfXsB3"
      },
      "execution_count": null,
      "outputs": []
    }
  ],
  "metadata": {
    "colab": {
      "provenance": [],
      "authorship_tag": "ABX9TyNbKYjsO/gi/pQpFGcpEE7D",
      "include_colab_link": true
    },
    "kernelspec": {
      "display_name": "Python 3",
      "name": "python3"
    },
    "language_info": {
      "name": "python"
    }
  },
  "nbformat": 4,
  "nbformat_minor": 0
}