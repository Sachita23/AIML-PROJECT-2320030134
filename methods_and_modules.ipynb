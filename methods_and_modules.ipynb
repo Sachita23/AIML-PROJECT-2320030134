{
  "nbformat": 4,
  "nbformat_minor": 0,
  "metadata": {
    "colab": {
      "provenance": [],
      "authorship_tag": "ABX9TyNldH+DiqyL1+lA+PhfcY0c",
      "include_colab_link": true
    },
    "kernelspec": {
      "name": "python3",
      "display_name": "Python 3"
    },
    "language_info": {
      "name": "python"
    }
  },
  "cells": [
    {
      "cell_type": "markdown",
      "metadata": {
        "id": "view-in-github",
        "colab_type": "text"
      },
      "source": [
        "<a href=\"https://colab.research.google.com/github/Sachita23/AIML-PROJECT-2320030134/blob/main/methods_and_modules.ipynb\" target=\"_parent\"><img src=\"https://colab.research.google.com/assets/colab-badge.svg\" alt=\"Open In Colab\"/></a>"
      ]
    },
    {
      "source": [
        "def greet(name):\n",
        "  print(f\"Hello, {name}!\")\n",
        "greet(\"World\")"
      ],
      "cell_type": "code",
      "metadata": {
        "colab": {
          "base_uri": "https://localhost:8080/"
        },
        "id": "H_DnAotgVK6o",
        "outputId": "1068c683-62fb-4068-95f0-020eb64d049a"
      },
      "execution_count": null,
      "outputs": [
        {
          "output_type": "stream",
          "name": "stdout",
          "text": [
            "Hello, World!\n"
          ]
        }
      ]
    },
    {
      "source": [
        "abs(-5)"
      ],
      "cell_type": "code",
      "metadata": {
        "colab": {
          "base_uri": "https://localhost:8080/"
        },
        "id": "yo1kxi36VdRu",
        "outputId": "ac9a3319-8b11-456c-8f9f-9dbe0924d3dc"
      },
      "execution_count": null,
      "outputs": [
        {
          "output_type": "execute_result",
          "data": {
            "text/plain": [
              "5"
            ]
          },
          "metadata": {},
          "execution_count": 4
        }
      ]
    },
    {
      "source": [
        "square = lambda x: x * x\n",
        "square(5)"
      ],
      "cell_type": "code",
      "metadata": {
        "colab": {
          "base_uri": "https://localhost:8080/"
        },
        "id": "i82bfoIlVhcs",
        "outputId": "5d20e89c-e79c-4416-c132-6dfac2df0aaf"
      },
      "execution_count": null,
      "outputs": [
        {
          "output_type": "execute_result",
          "data": {
            "text/plain": [
              "25"
            ]
          },
          "metadata": {},
          "execution_count": 5
        }
      ]
    },
    {
      "source": [
        "def factorial(n):\n",
        "  if n == 0:\n",
        "    return 1\n",
        "  else:\n",
        "    return n * factorial(n-1)\n",
        "factorial(5)"
      ],
      "cell_type": "code",
      "metadata": {
        "colab": {
          "base_uri": "https://localhost:8080/"
        },
        "id": "aDs4n1uUVmuc",
        "outputId": "0ae2f0dd-dff5-4932-e706-cb6210699acb"
      },
      "execution_count": null,
      "outputs": [
        {
          "output_type": "execute_result",
          "data": {
            "text/plain": [
              "120"
            ]
          },
          "metadata": {},
          "execution_count": 6
        }
      ]
    },
    {
      "cell_type": "code",
      "source": [
        "import numpy as np\n",
        "arr = np.array([1, 2, 3, 4, 5])\n",
        "print(arr)\n",
        "print(type(arr))"
      ],
      "metadata": {
        "id": "E30saRv0WQSx"
      },
      "execution_count": null,
      "outputs": []
    },
    {
      "cell_type": "code",
      "source": [
        "import pandas as pd\n",
        "mydataset = {\n",
        "  'cars': [\"BMW\", \"Volvo\", \"Ford\"],\n",
        "  'passings': [3, 7, 2]\n",
        "}\n",
        "myvar = pd.DataFrame(mydataset)\n",
        "print(myvar)"
      ],
      "metadata": {
        "colab": {
          "base_uri": "https://localhost:8080/"
        },
        "id": "DpCGp5nVWoy4",
        "outputId": "3c915d0c-8d2e-41ae-928c-76956e6a7416"
      },
      "execution_count": null,
      "outputs": [
        {
          "output_type": "stream",
          "name": "stdout",
          "text": [
            "    cars  passings\n",
            "0    BMW         3\n",
            "1  Volvo         7\n",
            "2   Ford         2\n"
          ]
        }
      ]
    },
    {
      "cell_type": "code",
      "source": [
        "import matplotlib.pyplot as plt\n",
        "import numpy as np\n",
        "x= np.array([0, 5, 10, 15, 20, 25, 30])\n",
        "y= np.array([0, 25, 50, 75, 100, 125, 150])\n",
        "ypoints = np.array([0, 250])\n",
        "plt.plot(x, y)\n",
        "plt.show()"
      ],
      "metadata": {
        "colab": {
          "base_uri": "https://localhost:8080/",
          "height": 430
        },
        "id": "gFEMLF8rW75U",
        "outputId": "9f1fcdfd-0b29-4116-a0e8-c736028fb9e6"
      },
      "execution_count": null,
      "outputs": [
        {
          "output_type": "display_data",
          "data": {
            "text/plain": [
              "<Figure size 640x480 with 1 Axes>"
            ],
            "image/png": "[encoded data removed]"
          },
          "metadata": {}
        }
      ]
    },
    {
      "cell_type": "code",
      "source": [
        "from numpy import random\n",
        "x = random.randint(100)\n",
        "print(x)"
      ],
      "metadata": {
        "colab": {
          "base_uri": "https://localhost:8080/"
        },
        "id": "F3ddYwL9XE0b",
        "outputId": "0c338175-07a7-400a-94af-7178388a3f3f"
      },
      "execution_count": null,
      "outputs": [
        {
          "output_type": "stream",
          "name": "stdout",
          "text": [
            "98\n"
          ]
        }
      ]
    },
    {
      "cell_type": "code",
      "source": [
        "from numpy import random\n",
        "x = random.rand()\n",
        "print(x)"
      ],
      "metadata": {
        "colab": {
          "base_uri": "https://localhost:8080/"
        },
        "id": "nKX0jah8XPss",
        "outputId": "655bf6b1-9541-40ac-924e-6eee8fc01d3a"
      },
      "execution_count": null,
      "outputs": [
        {
          "output_type": "stream",
          "name": "stdout",
          "text": [
            "0.010417511043003813\n"
          ]
        }
      ]
    },
    {
      "cell_type": "code",
      "source": [
        "from numpy import random\n",
        "x=random.randint(100, size=(5))\n",
        "print(x)"
      ],
      "metadata": {
        "colab": {
          "base_uri": "https://localhost:8080/"
        },
        "id": "lqM8Tq7HXZu5",
        "outputId": "cad733dc-b781-41b7-cda2-02c648081974"
      },
      "execution_count": null,
      "outputs": [
        {
          "output_type": "stream",
          "name": "stdout",
          "text": [
            "[ 3 31 72 94 38]\n"
          ]
        }
      ]
    },
    {
      "cell_type": "code",
      "source": [
        "from numpy import random\n",
        "x = random.randint(100, size=(3, 5))\n",
        "print(x)"
      ],
      "metadata": {
        "colab": {
          "base_uri": "https://localhost:8080/"
        },
        "id": "ojKJclQBXfEN",
        "outputId": "76d9871d-2118-45f8-f716-9af17d074abe"
      },
      "execution_count": null,
      "outputs": [
        {
          "output_type": "stream",
          "name": "stdout",
          "text": [
            "[[88 27  4 99 29]\n",
            " [51 15 15 47 41]\n",
            " [70 95 52  4 44]]\n"
          ]
        }
      ]
    },
    {
      "cell_type": "code",
      "source": [
        "from numpy import random\n",
        "dice=random.choice([1,2,3,4,5,6])\n",
        "print(dice)"
      ],
      "metadata": {
        "colab": {
          "base_uri": "https://localhost:8080/"
        },
        "id": "Gp4hwsZXXkak",
        "outputId": "f37d7dae-924f-4dab-a6f1-75c7533ca838"
      },
      "execution_count": null,
      "outputs": [
        {
          "output_type": "stream",
          "name": "stdout",
          "text": [
            "2\n"
          ]
        }
      ]
    },
    {
      "cell_type": "code",
      "source": [
        "from numpy import random\n",
        "dice=random.choice([\"head\",\"tail\"])\n",
        "print(dice)"
      ],
      "metadata": {
        "colab": {
          "base_uri": "https://localhost:8080/"
        },
        "id": "W0UaSesLXv6e",
        "outputId": "0afa54d3-78b3-4eb5-e807-3c3ceaa8a1a6"
      },
      "execution_count": null,
      "outputs": [
        {
          "output_type": "stream",
          "name": "stdout",
          "text": [
            "head\n"
          ]
        }
      ]
    },
    {
      "cell_type": "code",
      "source": [
        "import math\n",
        "print(math.pi)"
      ],
      "metadata": {
        "colab": {
          "base_uri": "https://localhost:8080/"
        },
        "id": "rmEXHLL5Zh2j",
        "outputId": "6e8b9b63-4877-455b-cfb0-8e22cf736744"
      },
      "execution_count": null,
      "outputs": [
        {
          "output_type": "stream",
          "name": "stdout",
          "text": [
            "3.141592653589793\n"
          ]
        }
      ]
    },
    {
      "cell_type": "code",
      "source": [
        "from math import pi\n",
        "print(pi)"
      ],
      "metadata": {
        "colab": {
          "base_uri": "https://localhost:8080/"
        },
        "id": "lwinFNtgZukY",
        "outputId": "f2e91e0c-c6b9-4a53-8f22-b1e5cabfdf62"
      },
      "execution_count": null,
      "outputs": [
        {
          "output_type": "stream",
          "name": "stdout",
          "text": [
            "3.141592653589793\n"
          ]
        }
      ]
    },
    {
      "cell_type": "code",
      "source": [
        "import math as m\n",
        "print(m.pi)"
      ],
      "metadata": {
        "colab": {
          "base_uri": "https://localhost:8080/"
        },
        "id": "TxRznp1EaQDT",
        "outputId": "a4945470-324c-40bf-c6ab-9bd2087c3a80"
      },
      "execution_count": null,
      "outputs": [
        {
          "output_type": "stream",
          "name": "stdout",
          "text": [
            "3.141592653589793\n"
          ]
        }
      ]
    },
    {
      "cell_type": "code",
      "source": [
        "from math import *\n",
        "print(pi)"
      ],
      "metadata": {
        "colab": {
          "base_uri": "https://localhost:8080/"
        },
        "id": "o9ClrUSoaVAz",
        "outputId": "b151c209-07b8-4c22-b425-6620ce20c203"
      },
      "execution_count": null,
      "outputs": [
        {
          "output_type": "stream",
          "name": "stdout",
          "text": [
            "3.141592653589793\n"
          ]
        }
      ]
    },
    {
      "cell_type": "code",
      "source": [
        "from numpy import random\n",
        "x = random.randint(20)\n",
        "for i in range(11):\n",
        "  if(i==0):\n",
        "      continue\n",
        "  print(x,\"X\",i,\"=\",x*i)"
      ],
      "metadata": {
        "colab": {
          "base_uri": "https://localhost:8080/"
        },
        "id": "xgQm2JAZa84y",
        "outputId": "7b90df6d-bbf0-4a8f-f019-5742097cb25d"
      },
      "execution_count": null,
      "outputs": [
        {
          "output_type": "stream",
          "name": "stdout",
          "text": [
            "18 X 1 = 18\n",
            "18 X 2 = 36\n",
            "18 X 3 = 54\n",
            "18 X 4 = 72\n",
            "18 X 5 = 90\n",
            "18 X 6 = 108\n",
            "18 X 7 = 126\n",
            "18 X 8 = 144\n",
            "18 X 9 = 162\n",
            "18 X 10 = 180\n"
          ]
        }
      ]
    },
    {
      "cell_type": "code",
      "source": [
        "import random\n",
        "def create_environment(size):\n",
        "  return{\n",
        "      'size':size,\n",
        "      'agent_position':[0,0]\n",
        "  }\n",
        "\n",
        "def is_valid_move(environment,position):\n",
        "  size=environment['size']\n",
        "  return 0<=position[0]<size and 0<=position[1]<size\n",
        "\n",
        "def perceive(environment):\n",
        "  return environment['agent_position']\n",
        "\n",
        "def act(environment):\n",
        "  moves=[(-1,0),(1,0),(0,-1),(0,1)]\n",
        "  random_move=random.choice(moves)\n",
        "  new_position=[\n",
        "      environment['agent_position'][0]+random_move[0],\n",
        "      environment['agent_position'][1]+random_move[1]]\n",
        "\n",
        "  if is_valid_move(environment,new_position):\n",
        "    environment['agent_position']=new_position\n",
        "    return f\"Moved to {environment['agent_position']}\"\n",
        "  else:\n",
        "    return \"Cannot move, stayed in place\"\n",
        "\n",
        "def main():\n",
        "  env_size=5\n",
        "  num_steps=10\n",
        "  environment= create_environment(env_size)\n",
        "  print(f\"Initial position: {perceive(environment)}\")\n",
        "  for step in range(num_steps):\n",
        "    print(f\"Step {step+1}: {act(environment)}\")\n",
        "\n",
        "if __name__==\"__main__\":\n",
        "  main()\n"
      ],
      "metadata": {
        "colab": {
          "base_uri": "https://localhost:8080/"
        },
        "id": "q6HsaNg1d_pl",
        "outputId": "5f41d399-4630-4ed4-f6bf-9f638cf357fb"
      },
      "execution_count": null,
      "outputs": [
        {
          "output_type": "stream",
          "name": "stdout",
          "text": [
            "Initial position: [0, 0]\n",
            "Step 1: Moved to [1, 0]\n",
            "Step 2: Moved to [1, 1]\n",
            "Step 3: Moved to [0, 1]\n",
            "Step 4: Moved to [0, 0]\n",
            "Step 5: Moved to [1, 0]\n",
            "Step 6: Moved to [2, 0]\n",
            "Step 7: Moved to [1, 0]\n",
            "Step 8: Cannot move, stayed in place\n",
            "Step 9: Moved to [2, 0]\n",
            "Step 10: Moved to [2, 1]\n"
          ]
        }
      ]
    }
  ]
}