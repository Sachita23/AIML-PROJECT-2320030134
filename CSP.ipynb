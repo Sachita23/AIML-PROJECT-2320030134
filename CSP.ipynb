{
  "nbformat": 4,
  "nbformat_minor": 0,
  "metadata": {
    "colab": {
      "provenance": [],
      "authorship_tag": "ABX9TyOwOn/VEpOMYgb/DI5dWeWR",
      "include_colab_link": true
    },
    "kernelspec": {
      "name": "python3",
      "display_name": "Python 3"
    },
    "language_info": {
      "name": "python"
    }
  },
  "cells": [
    {
      "cell_type": "markdown",
      "metadata": {
        "id": "view-in-github",
        "colab_type": "text"
      },
      "source": [
        "<a href=\"https://colab.research.google.com/github/Sachita23/AIML-PROJECT-2320030134/blob/main/CSP.ipynb\" target=\"_parent\"><img src=\"https://colab.research.google.com/assets/colab-badge.svg\" alt=\"Open In Colab\"/></a>"
      ]
    },
    {
      "cell_type": "markdown",
      "source": [
        "CSP (map coloring)\n",
        "2320030134-Sachita S Limaye"
      ],
      "metadata": {
        "id": "s9nDU73rFaz5"
      }
    },
    {
      "cell_type": "code",
      "execution_count": null,
      "metadata": {
        "id": "If7qfdgTcMPR",
        "colab": {
          "base_uri": "https://localhost:8080/"
        },
        "outputId": "31ca697b-9e23-40ef-c75c-5a3c3c2cccb4"
      },
      "outputs": [
        {
          "output_type": "stream",
          "name": "stdout",
          "text": [
            "Solution Exists: Following are the assigned colors:\n",
            "green blue red blue "
          ]
        }
      ],
      "source": [
        "def is_safe(graph, colors, vertex, color):\n",
        "  for i in range(len(graph)):\n",
        "    if graph[vertex][i] == 1 and colors[i] == color:\n",
        "      return False\n",
        "  return True\n",
        "\n",
        "def graph_coloring_util(graph, colors_list, colors, vertex):\n",
        "  if vertex == len(graph):\n",
        "    return True\n",
        "\n",
        "  for color in colors_list:\n",
        "    if is_safe(graph, colors, vertex, color):\n",
        "      colors[vertex] = color\n",
        "      if graph_coloring_util(graph, colors_list, colors, vertex + 1):\n",
        "        return True\n",
        "      colors[vertex] = None\n",
        "\n",
        "  return False\n",
        "\n",
        "def graph_coloring(graph, colors_list):\n",
        "  colors = [None] * len(graph)\n",
        "  if not graph_coloring_util(graph, colors_list, colors, 0):\n",
        "    return False\n",
        "\n",
        "  print(\"Solution Exists: Following are the assigned colors:\")\n",
        "  for c in colors:\n",
        "    print(c, end=\" \")\n",
        "  return True\n",
        "graph = [\n",
        "  [0, 1, 1, 1],\n",
        "  [1, 0, 1, 0],\n",
        "  [1, 1, 0, 1],\n",
        "  [1, 0, 1, 0]\n",
        "]\n",
        "colors_list = [\"green\", \"blue\", \"red\"]\n",
        "\n",
        "if graph_coloring(graph, colors_list):\n",
        "  pass\n",
        "else:\n",
        "  print(\"Solution does not exist\")"
      ]
    }
  ]
}